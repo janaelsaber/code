{
  "nbformat": 4,
  "nbformat_minor": 0,
  "metadata": {
    "colab": {
      "provenance": []
    },
    "kernelspec": {
      "name": "python3",
      "display_name": "Python 3"
    },
    "language_info": {
      "name": "python"
    }
  },
  "cells": [
    {
      "cell_type": "code",
      "source": [
        "#first question\n",
        "\n",
        "class Point3D():\n",
        "    def __init__(self, x, y, z):\n",
        "        self.x = x\n",
        "        self.y = y\n",
        "        self.z = z\n",
        "    def xyz(self):\n",
        "      return \"({},{},{})\".format(self.x,self.y,self.z)\n",
        "\n",
        "my_point = Point3D(1 ,2, 3)\n",
        "print(my_point.xyz())"
      ],
      "metadata": {
        "colab": {
          "base_uri": "https://localhost:8080/"
        },
        "id": "Q58rz1Sp7XaO",
        "outputId": "89706c52-e6eb-4ab5-ed68-226436b64d69"
      },
      "execution_count": null,
      "outputs": [
        {
          "output_type": "stream",
          "name": "stdout",
          "text": [
            "(1,2,3)\n"
          ]
        }
      ]
    },
    {
      "cell_type": "code",
      "source": [
        "#second question\n",
        "\n",
        "class rectangle():\n",
        "\n",
        "    def __init__(self, l, w):\n",
        "        self.l = l\n",
        "        self.w = w\n",
        "\n",
        "    def area(self):\n",
        "        return self.l*self.w\n",
        "\n",
        "    def perimeter(self):\n",
        "        return 2*(self.l+self.w)\n",
        "\n",
        "my_rectangle = rectangle(4,3)\n",
        "print(my_rectangle.area() , my_rectangle.perimeter())\n"
      ],
      "metadata": {
        "colab": {
          "base_uri": "https://localhost:8080/"
        },
        "id": "W1qO2YBp7env",
        "outputId": "b7a6e136-07eb-4986-c854-062c64d3bb1b"
      },
      "execution_count": 15,
      "outputs": [
        {
          "output_type": "stream",
          "name": "stdout",
          "text": [
            "12 14\n"
          ]
        }
      ]
    },
    {
      "cell_type": "code",
      "source": [
        "#third question\n",
        "\n",
        "class circle():\n",
        "  \n",
        "    def __init__(self,r,x1,y1,x2,y2):\n",
        "        self.radius = r\n",
        "        self.x_of_a = x1\n",
        "        self.y_of_a = y1\n",
        "        self.x_of_c = x2\n",
        "        self.y_of_c = y2\n",
        "    def area(self):\n",
        "        return 2*3.14*self.radius\n",
        "\n",
        "    def perimeter(self):\n",
        "        return 3.14*self.radius**2\n",
        "\n",
        "    \n",
        "    def point(self):\n",
        "      \n",
        "        if (self.x_of_a - self.x_of_c)**2 + (self.y_of_a - self.y_of_c)**2 > self.radius**2:     # equation of circle = (x1-x2)**2 + (y1-y2)** > r**2\n",
        "          return(\"the point blongs to the circle\")\n",
        "\n",
        "        else :\n",
        "          return(\"the point don't belong to the circle\")\n",
        "\n",
        "my_circle = circle(3,3,4,2,1)\n",
        "print(my_circle.area())\n",
        "print(my_circle.perimeter())\n",
        "print(my_circle.point())"
      ],
      "metadata": {
        "colab": {
          "base_uri": "https://localhost:8080/"
        },
        "id": "QQRGf9fsXLeF",
        "outputId": "2346d221-3c73-445d-e3b5-515ad4ac50c2"
      },
      "execution_count": 20,
      "outputs": [
        {
          "output_type": "stream",
          "name": "stdout",
          "text": [
            "18.84\n",
            "28.26\n",
            "the point blongs to the circle\n"
          ]
        }
      ]
    },
    {
      "cell_type": "code",
      "source": [
        "#fourth question\n",
        "\n",
        "class bank():\n",
        "\n",
        "    def __init__(self,balance):\n",
        "      self.balance=balance\n",
        "\n",
        "    def deposite(self,a):\n",
        "      self.balance += a\n",
        "\n",
        "      return self.balance\n",
        "\n",
        "    def withdraw(self,a):\n",
        "      self.balance -= a\n",
        "      return self.balance\n",
        "\n",
        "account = bank(1000)\n",
        "\n",
        "print(account.deposite(1000))\n",
        "print(account.withdraw(500))"
      ],
      "metadata": {
        "colab": {
          "base_uri": "https://localhost:8080/"
        },
        "id": "GL9mQ_yvb36U",
        "outputId": "1f4a27df-7f5b-43c0-b9e7-8bf67a0eabae"
      },
      "execution_count": 38,
      "outputs": [
        {
          "output_type": "stream",
          "name": "stdout",
          "text": [
            "2000\n",
            "1500\n"
          ]
        }
      ]
    }
  ]
}