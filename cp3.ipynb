{
  "nbformat": 4,
  "nbformat_minor": 0,
  "metadata": {
    "colab": {
      "name": "cp3",
      "provenance": []
    },
    "kernelspec": {
      "name": "python3",
      "display_name": "Python 3"
    },
    "language_info": {
      "name": "python"
    }
  },
  "cells": [
    {
      "cell_type": "code",
      "execution_count": null,
      "metadata": {
        "colab": {
          "base_uri": "https://localhost:8080/"
        },
        "id": "UeTQsLGd4yIq",
        "outputId": "d4295976-97f5-4c2c-afa7-b5fa34e65f94"
      },
      "outputs": [
        {
          "output_type": "stream",
          "name": "stdout",
          "text": [
            "36\n"
          ]
        }
      ],
      "source": [
        "#question 1 \n",
        "\n",
        "def y(list):\n",
        "  result=1\n",
        "  for x in list:\n",
        "    result=result*x\n",
        "  return result\n",
        "list=[2,3,6]\n",
        "print(y(list))"
      ]
    },
    {
      "cell_type": "code",
      "source": [
        "#question 2\n",
        "\n",
        "list=[(2, 5), (1, 2), (4, 4), (2, 3), (2, 1)]\n",
        "def sort_list(list):\n",
        "  list.sort(key=lambda  x:x[1] ,reverse=True)\n",
        "  return list\n",
        "print(sort_list(list))"
      ],
      "metadata": {
        "colab": {
          "base_uri": "https://localhost:8080/"
        },
        "id": "C-hnXHUskjiD",
        "outputId": "8eb7ec85-3466-47b7-c92a-20b998a7ba93"
      },
      "execution_count": null,
      "outputs": [
        {
          "output_type": "stream",
          "name": "stdout",
          "text": [
            "[(2, 5), (4, 4), (2, 3), (1, 2), (2, 1)]\n"
          ]
        }
      ]
    },
    {
      "cell_type": "code",
      "source": [
        "#question 3\n",
        "\n",
        "d1 = {'a': 100, 'b': 200, 'c':300}\n",
        "d2 = {'a': 300, 'b': 200, 'd':400}\n",
        "for x  in d1:\n",
        "  if x in d2:\n",
        "    d2[x]=d1[x]+d2[x]\n",
        "  else:\n",
        "    d2[x]=d1[x]\n",
        "print(d2)"
      ],
      "metadata": {
        "colab": {
          "base_uri": "https://localhost:8080/"
        },
        "id": "O4mAbLOSxEbB",
        "outputId": "b82954a3-c2e0-48cb-b87f-0a7725ca0f97"
      },
      "execution_count": null,
      "outputs": [
        {
          "output_type": "stream",
          "name": "stdout",
          "text": [
            "{'a': 400, 'b': 400, 'd': 400, 'c': 300}\n"
          ]
        }
      ]
    },
    {
      "cell_type": "code",
      "source": [
        "#question 4\n",
        "\n",
        "n=int(input(\"enter a number:\"))\n",
        "dict={}\n",
        "for i in range(1,n+1):\n",
        "  dict[i]=i*i\n",
        "print(dict)\n"
      ],
      "metadata": {
        "colab": {
          "base_uri": "https://localhost:8080/"
        },
        "id": "VuO7Efpieqrg",
        "outputId": "0af41a07-6c26-485d-acff-bff503719e0e"
      },
      "execution_count": null,
      "outputs": [
        {
          "output_type": "stream",
          "name": "stdout",
          "text": [
            "enter a number:8\n",
            "{1: 1, 2: 4, 3: 9, 4: 16, 5: 25, 6: 36, 7: 49, 8: 64}\n"
          ]
        }
      ]
    },
    {
      "cell_type": "code",
      "source": [
        "#question 5\n",
        "\n",
        "price = [('item1', '12.20'), ('item2', '15.10'), ('item3', '24.5')]\n",
        "print( sorted(price, key=lambda x: float(x[1]), reverse=True))"
      ],
      "metadata": {
        "colab": {
          "base_uri": "https://localhost:8080/"
        },
        "id": "pPHLHjzRnH3U",
        "outputId": "a036c61a-58f4-4624-b5b0-0950cfecf976"
      },
      "execution_count": null,
      "outputs": [
        {
          "output_type": "stream",
          "name": "stdout",
          "text": [
            "[('item3', '24.5'), ('item2', '15.10'), ('item1', '12.20')]\n"
          ]
        }
      ]
    }
  ]
}