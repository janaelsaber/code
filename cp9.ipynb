{
  "nbformat": 4,
  "nbformat_minor": 0,
  "metadata": {
    "colab": {
      "provenance": []
    },
    "kernelspec": {
      "name": "python3",
      "display_name": "Python 3"
    },
    "language_info": {
      "name": "python"
    }
  },
  "cells": [
    {
      "cell_type": "code",
      "source": [
        "#first question\n",
        "\n",
        "x= open(\"/content/python.txt\")\n",
        "\n",
        "x.read()"
      ],
      "metadata": {
        "id": "eKZTQkmdf7al"
      },
      "execution_count": null,
      "outputs": []
    },
    {
      "cell_type": "code",
      "source": [
        "#second question\n",
        "\n",
        "x= open(\"/content/python.txt\")\n",
        "\n",
        "for i in range(2):\n",
        "  num = x.readline()\n",
        "  print(num)"
      ],
      "metadata": {
        "id": "RMU0dbqHgehi"
      },
      "execution_count": null,
      "outputs": []
    },
    {
      "cell_type": "code",
      "source": [
        "#third question\n",
        "\n",
        "x= open(\"/content/python.txt\")\n",
        "\n",
        "for k in (x.readlines() [3:]):\n",
        "  print(k)"
      ],
      "metadata": {
        "id": "b-bgnWZmhXeB"
      },
      "execution_count": null,
      "outputs": []
    },
    {
      "cell_type": "code",
      "source": [
        "#fourth question \n",
        "\n",
        "x= open(\"/content/python.txt\")\n",
        "y= x.read()\n",
        "print(len(y.split(\" \")))"
      ],
      "metadata": {
        "id": "xR4Jh5sJhz22"
      },
      "execution_count": null,
      "outputs": []
    }
  ]
}