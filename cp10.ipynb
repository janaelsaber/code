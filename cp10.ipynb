{
  "nbformat": 4,
  "nbformat_minor": 0,
  "metadata": {
    "colab": {
      "provenance": []
    },
    "kernelspec": {
      "name": "python3",
      "display_name": "Python 3"
    },
    "language_info": {
      "name": "python"
    }
  },
  "cells": [
    {
      "cell_type": "code",
      "execution_count": 4,
      "metadata": {
        "colab": {
          "base_uri": "https://localhost:8080/"
        },
        "id": "qcfwB4misGY7",
        "outputId": "6b535776-c25e-4635-d82d-42f47bf75dff"
      },
      "outputs": [
        {
          "output_type": "stream",
          "name": "stdout",
          "text": [
            "5\n",
            "8\n",
            "8\n"
          ]
        }
      ],
      "source": [
        "def binary_search(x,wanted):\n",
        "\n",
        "    begin_index = 0\n",
        "    end_index = len(x)-1\n",
        "\n",
        "    while begin_index <= end_index:\n",
        "      midpoint = begin_index + (end_index - begin_index) // 2 \n",
        "      print(midpoint)\n",
        "      midpoint_value = x[midpoint]\n",
        "      if wanted == midpoint_value:\n",
        "        return midpoint \n",
        "      elif wanted < midpoint_value:\n",
        "        end_index = midpoint - 1\n",
        "      else:\n",
        "        begin_index = midpoint + 1\n",
        "    return \"not found\"\n",
        "\n",
        "list1 = [20,30,40,50,60,70,80,90,100,110,120]\n",
        "\n",
        "print(binary_search(list1,100)) "
      ]
    },
    {
      "cell_type": "code",
      "source": [
        "x =  [29,13,22,37,52,49,46,71,56]\n",
        "\n",
        "for j in range(len(x)-1):\n",
        "  for i in range(len(x)-1):\n",
        "    if x[i] > x[i+1]:\n",
        "      x[i] , x[i+1] = x[i+1] , x[i]\n",
        "  print(x)"
      ],
      "metadata": {
        "id": "RLheBk8UtEld"
      },
      "execution_count": null,
      "outputs": []
    },
    {
      "cell_type": "code",
      "source": [
        "def mergeSort(liss):\n",
        "    if len(liss) > 1:\n",
        "        mid = len(liss) // 2\n",
        "        left_list=liss[:mid]\n",
        "        right_list=liss[mid:]\n",
        "\n",
        "        mergeSort(left_list)\n",
        "        mergeSort(right_list)\n",
        "        i = 0\n",
        "        j = 0\n",
        "        k = 0\n",
        "        while i < len(left_list) and j < len(right_list):\n",
        "            if left_list[i] <= right_list[j]:\n",
        "                liss[k] = left_list[i]\n",
        "                i += 1\n",
        "            else:\n",
        "                liss[k] = right_list[j]\n",
        "                j += 1\n",
        "            k += 1\n",
        "\n",
        "\n",
        "        while i < len(left_list):\n",
        "            liss[k] = left_list[i]\n",
        "            i += 1\n",
        "            k += 1\n",
        "        while j < len(right_list):\n",
        "            liss[k] = right_list[j]\n",
        "            j += 1\n",
        "            k += 1\n",
        "\n",
        "\n",
        "\n",
        "\n",
        "myList = [29,13,22,37,52,49,46,71,56]\n",
        "mergeSort(myList)\n",
        "print(myList)"
      ],
      "metadata": {
        "id": "lWUAKwSTtJLa"
      },
      "execution_count": null,
      "outputs": []
    },
    {
      "cell_type": "code",
      "source": [
        "def quick_sort(sequence):\n",
        "    length = len(sequence)                                    \n",
        "    if length <= 1:\n",
        "        return sequence                                            \n",
        "    else :\n",
        "        pivot = sequence.pop()\n",
        "    items_greater = []\n",
        "    items_lower = []\n",
        "    for items in sequence:\n",
        "        if items > pivot:\n",
        "            items_greater.append(items)\n",
        "        else:\n",
        "            items_lower.append(items)\n",
        "    return quick_sort(items_lower) + [pivot] + quick_sort(items_greater)\n",
        "x = [29,13,22,37,52,49,46,71,56]\n",
        "print(quick_sort(x))"
      ],
      "metadata": {
        "id": "W0LvWxHJtwlH"
      },
      "execution_count": null,
      "outputs": []
    },
    {
      "cell_type": "code",
      "source": [
        "def power(a,b):\n",
        "  return a**b\n",
        "\n",
        "a= int(input(\"enter the first number:\"))\n",
        "b= int(input(\"enter the second number:\"))\n",
        "\n",
        "print(\"the result is:\" , power(a,b))"
      ],
      "metadata": {
        "colab": {
          "base_uri": "https://localhost:8080/"
        },
        "id": "2kxSkDnJvd5B",
        "outputId": "829cfba5-a0ae-4d4b-bf82-645f28a83281"
      },
      "execution_count": 13,
      "outputs": [
        {
          "output_type": "stream",
          "name": "stdout",
          "text": [
            "enter the first number:3\n",
            "enter the second number:4\n",
            "the result is: 81\n"
          ]
        }
      ]
    }
  ]
}