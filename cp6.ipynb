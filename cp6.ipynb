{
  "nbformat": 4,
  "nbformat_minor": 0,
  "metadata": {
    "colab": {
      "provenance": []
    },
    "kernelspec": {
      "name": "python3",
      "display_name": "Python 3"
    },
    "language_info": {
      "name": "python"
    }
  },
  "cells": [
    {
      "cell_type": "code",
      "execution_count": 3,
      "metadata": {
        "colab": {
          "base_uri": "https://localhost:8080/"
        },
        "id": "-ukrGJgax9hv",
        "outputId": "93817e85-0140-4b21-a8ce-584e0c26bd0c"
      },
      "outputs": [
        {
          "output_type": "stream",
          "name": "stdout",
          "text": [
            "[[1, 4], [6, 9]]\n"
          ]
        }
      ],
      "source": [
        "#first question\n",
        "\n",
        "import numpy as np\n",
        "\n",
        "x = np.array([[1,4],[6,9]])\n",
        "x = x.tolist()\n",
        "print(x)"
      ]
    },
    {
      "cell_type": "code",
      "source": [
        "#second question\n",
        "\n",
        "import numpy as np\n",
        "\n",
        "array = np.array([[2,5],\n",
        "                  [8,6]])\n",
        "\n",
        "trace = np.trace(array)\n",
        "print(trace)"
      ],
      "metadata": {
        "colab": {
          "base_uri": "https://localhost:8080/"
        },
        "id": "o6gGgIZ-4YQS",
        "outputId": "7f7fa64f-90f2-4469-e5e3-253cb7666c75"
      },
      "execution_count": 2,
      "outputs": [
        {
          "output_type": "stream",
          "name": "stdout",
          "text": [
            "8\n"
          ]
        }
      ]
    },
    {
      "cell_type": "code",
      "source": [
        "#third question\n",
        "\n",
        "import numpy as np\n",
        "\n",
        "array = np.array([[16,1],[3,5]])\n",
        "\n",
        "x=2\n",
        "\n",
        "print(array[array>x])\n"
      ],
      "metadata": {
        "colab": {
          "base_uri": "https://localhost:8080/"
        },
        "id": "olzF9A54VqRj",
        "outputId": "8dfe1e27-f8e1-480e-89cc-46c8aae9f383"
      },
      "execution_count": 9,
      "outputs": [
        {
          "output_type": "stream",
          "name": "stdout",
          "text": [
            "[16  3  5]\n"
          ]
        }
      ]
    },
    {
      "cell_type": "code",
      "source": [
        "#fourth question\n",
        "\n",
        "import numpy as np\n",
        "a = np.array([[1,5],[9,6]])\n",
        "b = np.array([[3,9],[4,2]])\n",
        "\n",
        "c = a+b\n",
        "print(c)"
      ],
      "metadata": {
        "colab": {
          "base_uri": "https://localhost:8080/"
        },
        "id": "z-cTs3scZoGE",
        "outputId": "c6c87e1b-5832-4644-c0da-220a4cd9971f"
      },
      "execution_count": 11,
      "outputs": [
        {
          "output_type": "stream",
          "name": "stdout",
          "text": [
            "[[ 4 14]\n",
            " [13  8]]\n"
          ]
        }
      ]
    },
    {
      "cell_type": "code",
      "source": [
        "#fifth question\n",
        "\n",
        "import numpy as np\n",
        "a = np.array([[2,5],[6,7]])\n",
        "b = a-np.mean(a)\n",
        "b\n"
      ],
      "metadata": {
        "colab": {
          "base_uri": "https://localhost:8080/"
        },
        "id": "Af_kvJQ5bXWI",
        "outputId": "ba804371-018a-4d3b-9d82-3427b1747365"
      },
      "execution_count": 16,
      "outputs": [
        {
          "output_type": "execute_result",
          "data": {
            "text/plain": [
              "array([[-3.,  0.],\n",
              "       [ 1.,  2.]])"
            ]
          },
          "metadata": {},
          "execution_count": 16
        }
      ]
    }
  ]
}