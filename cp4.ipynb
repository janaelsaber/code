{
  "nbformat": 4,
  "nbformat_minor": 0,
  "metadata": {
    "colab": {
      "provenance": []
    },
    "kernelspec": {
      "name": "python3",
      "display_name": "Python 3"
    },
    "language_info": {
      "name": "python"
    }
  },
  "cells": [
    {
      "cell_type": "code",
      "source": [
        "#Question 1\n",
        "\n",
        "x=int(input(\"enter the first number: \"))\n",
        "y=int(input(\"enter the second number: \"))\n",
        "z=int(input(\"enter the third number: \"))\n",
        "def max_func(a,b,c):\n",
        "  return max(a,b,c)\n",
        "print(max_func(x,y,z))\n"
      ],
      "metadata": {
        "colab": {
          "base_uri": "https://localhost:8080/"
        },
        "id": "PNNlESubUcAT",
        "outputId": "831a29a1-e032-476e-f254-942008d68ac8"
      },
      "execution_count": null,
      "outputs": [
        {
          "output_type": "stream",
          "name": "stdout",
          "text": [
            "enter the first number: 22\n",
            "enter the second number: 15\n",
            "enter the third number: 23\n",
            "23\n"
          ]
        }
      ]
    },
    {
      "cell_type": "code",
      "source": [
        "#Question 2\n",
        "\n",
        "a=int(input(\"enter your first number:\"))\n",
        "b=int(input(\"enter your second number:\"))\n",
        "def func(num1, num2):\n",
        "    x = num1+num2\n",
        "    y = num1-num2\n",
        "    return x, y\n",
        "func(a,b)"
      ],
      "metadata": {
        "colab": {
          "base_uri": "https://localhost:8080/"
        },
        "id": "xgfDXhufN22g",
        "outputId": "15a468da-b532-4656-f350-b01c44ae9bb2"
      },
      "execution_count": null,
      "outputs": [
        {
          "name": "stdout",
          "output_type": "stream",
          "text": [
            "enter your first number:1\n",
            "enter your second number:6\n"
          ]
        },
        {
          "output_type": "execute_result",
          "data": {
            "text/plain": [
              "(7, -5)"
            ]
          },
          "metadata": {},
          "execution_count": 3
        }
      ]
    },
    {
      "cell_type": "code",
      "source": [
        "#Question 3\n",
        "\n",
        "my_list=[1,7,8,3,10]\n",
        "\n",
        "#first point:Write a function that sums the elements of a list of integers\n",
        "\n",
        "def sum(b):\n",
        "  result=0\n",
        "  for i in b:\n",
        "\n",
        "    result=result+i\n",
        "\n",
        "  return result\n",
        "\n",
        "#second point:Write a function that multiplies the elements of an integer list\n",
        "\n",
        "def prod(e):\n",
        "  equ=1\n",
        "  for j in e:\n",
        "\n",
        "    equ=equ*j\n",
        "\n",
        "  return equ\n",
        "\n",
        "#last point:Use the two functions to sum the elements whose position is an even number (0,2,4…) and multiply the rest\n",
        "even = []\n",
        "odd = []\n",
        "\n",
        "for i in range(len(my_list)):\n",
        "  if i % 2 ==0:\n",
        "    even.append(my_list[i])\n",
        "  else:\n",
        "    odd.append(my_list[i])\n",
        "\n",
        "\n",
        "print(sum(my_list),prod(my_list),sum(odd),prod(even))\n"
      ],
      "metadata": {
        "colab": {
          "base_uri": "https://localhost:8080/"
        },
        "id": "sBzT0kCli00v",
        "outputId": "a7778673-5be0-4bfe-afba-b03c5881f5c3"
      },
      "execution_count": 50,
      "outputs": [
        {
          "output_type": "stream",
          "name": "stdout",
          "text": [
            "29 1680 10 80\n"
          ]
        }
      ]
    },
    {
      "cell_type": "code",
      "source": [
        "#Question 4\n",
        "\n",
        "x=\"green-red-yellow-black-white\"\n",
        "\n",
        "y=x.split(\"-\")\n",
        "\n",
        "y.sort()\n",
        "\n",
        "print(y)"
      ],
      "metadata": {
        "colab": {
          "base_uri": "https://localhost:8080/"
        },
        "id": "y6FO1Q-_YULF",
        "outputId": "9e6a8a90-15f3-416d-ab14-bcf6623e4b6a"
      },
      "execution_count": 62,
      "outputs": [
        {
          "output_type": "stream",
          "name": "stdout",
          "text": [
            "['black', 'green', 'red', 'white', 'yellow']\n"
          ]
        }
      ]
    },
    {
      "cell_type": "code",
      "source": [
        "#Question 5\n",
        "\n",
        "import math\n",
        "def q(d):\n",
        "  q=((2*50*d)/30)**0.5\n",
        "  return int(q)\n",
        "\n",
        "x=[100,150,180]\n",
        "y=list(map(q,x))\n",
        "\n",
        "print(y)\n"
      ],
      "metadata": {
        "colab": {
          "base_uri": "https://localhost:8080/"
        },
        "id": "RvmPlekh6B7j",
        "outputId": "bae4cd92-d1ee-4074-8cfe-1f811a1f321d"
      },
      "execution_count": 72,
      "outputs": [
        {
          "output_type": "stream",
          "name": "stdout",
          "text": [
            "[18, 22, 24]\n"
          ]
        }
      ]
    }
  ]
}