{
  "nbformat": 4,
  "nbformat_minor": 0,
  "metadata": {
    "colab": {
      "name": "cp2",
      "provenance": [],
      "collapsed_sections": []
    },
    "kernelspec": {
      "name": "python3",
      "display_name": "Python 3"
    },
    "language_info": {
      "name": "python"
    }
  },
  "cells": [
    {
      "cell_type": "code",
      "execution_count": null,
      "metadata": {
        "colab": {
          "base_uri": "https://localhost:8080/"
        },
        "id": "RS6YvpUM1wm6",
        "outputId": "9b912e65-bd8e-4e38-ac48-37a81f3165b2"
      },
      "outputs": [
        {
          "output_type": "stream",
          "name": "stdout",
          "text": [
            "enter your first name:jana\n",
            "enter your last name:elsaber\n",
            "elsaber jana\n"
          ]
        }
      ],
      "source": [
        "firstname=input(\"enter your first name:\")\n",
        "lastname=input(\"enter your last name:\")\n",
        "print(lastname+\" \"+firstname)"
      ]
    },
    {
      "cell_type": "code",
      "source": [
        "n=5\n",
        "x=str(n)\n",
        "x2=x+x\n",
        "x3=x+x+x\n",
        "print(int(x)+int(x2)+int(x3))"
      ],
      "metadata": {
        "colab": {
          "base_uri": "https://localhost:8080/"
        },
        "id": "2sIISsxp19zw",
        "outputId": "a5a2e066-bd08-4aa0-e405-acd0a51b3cdd"
      },
      "execution_count": null,
      "outputs": [
        {
          "output_type": "stream",
          "name": "stdout",
          "text": [
            "615\n"
          ]
        }
      ]
    },
    {
      "cell_type": "code",
      "source": [
        "num=int(input(\"enter a number:\"))\n",
        "if (num % 2)==0:\n",
        "    print(\"even\")\n",
        "else:\n",
        "    print(\"odd\")\n"
      ],
      "metadata": {
        "colab": {
          "base_uri": "https://localhost:8080/"
        },
        "id": "xawmgWlj2DsR",
        "outputId": "b0da8f09-d15f-4d9f-e44a-078a4f322277"
      },
      "execution_count": null,
      "outputs": [
        {
          "output_type": "stream",
          "name": "stdout",
          "text": [
            "enter a number:6\n",
            "even\n"
          ]
        }
      ]
    },
    {
      "cell_type": "code",
      "source": [
        "num = [x for x in range(2000,3201) if x % 7 ==0 and x % 5 !=0 ]\n",
        "print(num)"
      ],
      "metadata": {
        "colab": {
          "base_uri": "https://localhost:8080/"
        },
        "id": "JJMA08S12Ljf",
        "outputId": "6112a5b9-b91a-4a31-a6e2-d87da0ca5544"
      },
      "execution_count": null,
      "outputs": [
        {
          "output_type": "stream",
          "name": "stdout",
          "text": [
            "[2002, 2009, 2016, 2023, 2037, 2044, 2051, 2058, 2072, 2079, 2086, 2093, 2107, 2114, 2121, 2128, 2142, 2149, 2156, 2163, 2177, 2184, 2191, 2198, 2212, 2219, 2226, 2233, 2247, 2254, 2261, 2268, 2282, 2289, 2296, 2303, 2317, 2324, 2331, 2338, 2352, 2359, 2366, 2373, 2387, 2394, 2401, 2408, 2422, 2429, 2436, 2443, 2457, 2464, 2471, 2478, 2492, 2499, 2506, 2513, 2527, 2534, 2541, 2548, 2562, 2569, 2576, 2583, 2597, 2604, 2611, 2618, 2632, 2639, 2646, 2653, 2667, 2674, 2681, 2688, 2702, 2709, 2716, 2723, 2737, 2744, 2751, 2758, 2772, 2779, 2786, 2793, 2807, 2814, 2821, 2828, 2842, 2849, 2856, 2863, 2877, 2884, 2891, 2898, 2912, 2919, 2926, 2933, 2947, 2954, 2961, 2968, 2982, 2989, 2996, 3003, 3017, 3024, 3031, 3038, 3052, 3059, 3066, 3073, 3087, 3094, 3101, 3108, 3122, 3129, 3136, 3143, 3157, 3164, 3171, 3178, 3192, 3199]\n"
          ]
        }
      ]
    },
    {
      "cell_type": "code",
      "source": [
        "n = 5\n",
        "x = 1\n",
        "for i in range (n):\n",
        "    x = x * (i+1)\n",
        "print(x)"
      ],
      "metadata": {
        "colab": {
          "base_uri": "https://localhost:8080/"
        },
        "id": "a-u1qRYS2R3V",
        "outputId": "771cad32-d57e-44f5-d626-6a2d06a10699"
      },
      "execution_count": null,
      "outputs": [
        {
          "output_type": "stream",
          "name": "stdout",
          "text": [
            "120\n"
          ]
        }
      ]
    },
    {
      "cell_type": "code",
      "source": [
        "x=\"hello team\"\n",
        "y=\"\"\n",
        "for i in range(len(x)):\n",
        "  if i % 2 == 0:\n",
        "    y = y + x[i]\n",
        "print(y)"
      ],
      "metadata": {
        "colab": {
          "base_uri": "https://localhost:8080/"
        },
        "id": "2pwlJ8Un2YLi",
        "outputId": "df398998-1cf1-4f54-e886-86d380854e61"
      },
      "execution_count": 2,
      "outputs": [
        {
          "output_type": "stream",
          "name": "stdout",
          "text": [
            "hlota\n"
          ]
        }
      ]
    },
    {
      "cell_type": "code",
      "source": [
        "price=float(input(\"enter the price:\"))\n",
        "discount=float(input(\"enter the discount percentage\"))\n",
        "afterdiscount=price-price*discount/100\n",
        "print(afterdiscount)"
      ],
      "metadata": {
        "colab": {
          "base_uri": "https://localhost:8080/"
        },
        "id": "6yIOZxaW2ph5",
        "outputId": "946e20d2-a8b5-4638-fc25-980abdc469c3"
      },
      "execution_count": null,
      "outputs": [
        {
          "output_type": "stream",
          "name": "stdout",
          "text": [
            "enter the price:500\n",
            "enter the discount percentage50\n",
            "250.0\n"
          ]
        }
      ]
    }
  ]
}